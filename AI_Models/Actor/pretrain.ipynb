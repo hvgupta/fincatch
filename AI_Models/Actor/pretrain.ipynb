{
 "cells": [
  {
   "cell_type": "code",
   "execution_count": 2,
   "metadata": {},
   "outputs": [],
   "source": [
    "from Policy import Policy\n",
    "import numpy as np\n",
    "\n",
    "from torch.utils.data import DataLoader, TensorDataset, random_split\n",
    "from torch.nn import MSELoss\n",
    "import torch\n",
    "import matplotlib.pyplot as plt\n",
    "%matplotlib inline\n"
   ]
  },
  {
   "cell_type": "code",
   "execution_count": null,
   "metadata": {},
   "outputs": [],
   "source": [
    "DATASET_SIZE = 10000\n",
    "INPUT_LOWER_LIMIT = 1\n",
    "INPUT_UPPER_LIMIT = 100\n",
    "OUTPUT_LOWER_LIMIT = 1\n",
    "OUTPUT_UPPER_LIMIT = 10000\n",
    "\n",
    "NUM_EPOCHS = 1000"
   ]
  },
  {
   "cell_type": "code",
   "execution_count": 3,
   "metadata": {},
   "outputs": [],
   "source": [
    "device = torch.device(\"cuda\" if torch.cuda.is_available() else \"cpu\")"
   ]
  },
  {
   "cell_type": "code",
   "execution_count": null,
   "metadata": {},
   "outputs": [],
   "source": [
    "pretrainedCritic = torch.load(parent_dir + '/AI_Models/LLM_Critic/pretrainedCritic.pt',map_location=device).to(device)\n",
    "randomMarketMovement = np.random.randint(1, 101, size=(DATASET_SIZE, 1)).to_device(device)\n",
    "\n",
    "X = torch.argmax(pretrainedCritic(randomMarketMovement))\n",
    "model = Policy(1,1000,1,1000)"
   ]
  },
  {
   "cell_type": "code",
   "execution_count": null,
   "metadata": {},
   "outputs": [],
   "source": []
  }
 ],
 "metadata": {
  "kernelspec": {
   "display_name": ".venv",
   "language": "python",
   "name": "python3"
  },
  "language_info": {
   "codemirror_mode": {
    "name": "ipython",
    "version": 3
   },
   "file_extension": ".py",
   "mimetype": "text/x-python",
   "name": "python",
   "nbconvert_exporter": "python",
   "pygments_lexer": "ipython3",
   "version": "3.11.8"
  }
 },
 "nbformat": 4,
 "nbformat_minor": 2
}
